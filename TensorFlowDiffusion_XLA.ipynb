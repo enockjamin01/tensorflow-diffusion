{
  "nbformat": 4,
  "nbformat_minor": 0,
  "metadata": {
    "colab": {
      "provenance": [],
      "gpuType": "T4"
    },
    "kernelspec": {
      "name": "python3",
      "display_name": "Python 3"
    },
    "language_info": {
      "name": "python"
    },
    "accelerator": "GPU"
  },
  "cells": [
    {
      "cell_type": "markdown",
      "source": [
        "# Tensorflow Diffusion\n",
        "\n",
        "Tensorflow Diffusion is an experimental project that is built to showcase the new Stable Diffusion Model in TensorFlow that is built with Keras CV\n",
        "it showcases the ability of the model to generate high-resolution images.\n",
        "It uses Latent Diffusion and Efficient Sub-Pixel CNN for generating High-resolution images\n",
        "\n",
        "It uses a Text encoder to encode the image based on the requirements uses noise to pass on to the Diffusion model and uses a Decoder to convert it into a high-resolution image."
      ],
      "metadata": {
        "id": "Hq_H57sSlvKa"
      }
    },
    {
      "cell_type": "markdown",
      "source": [
        "### Install Keras CV"
      ],
      "metadata": {
        "id": "1FEkX24Nn4aj"
      }
    },
    {
      "cell_type": "code",
      "source": [
        "pip install tensorflow keras_cv --upgrade --quiet"
      ],
      "metadata": {
        "id": "o5DmTih9q69w",
        "colab": {
          "base_uri": "https://localhost:8080/"
        },
        "outputId": "25ad6a5e-e484-4c0a-fced-380f983b2541"
      },
      "execution_count": 1,
      "outputs": [
        {
          "output_type": "stream",
          "name": "stdout",
          "text": [
            "\u001b[2K     \u001b[90m━━━━━━━━━━━━━━━━━━━━━━━━━━━━━━━━━━━━━━━━\u001b[0m \u001b[32m475.2/475.2 MB\u001b[0m \u001b[31m3.5 MB/s\u001b[0m eta \u001b[36m0:00:00\u001b[0m\n",
            "\u001b[2K     \u001b[90m━━━━━━━━━━━━━━━━━━━━━━━━━━━━━━━━━━━━━━━━\u001b[0m \u001b[32m602.0/602.0 kB\u001b[0m \u001b[31m45.5 MB/s\u001b[0m eta \u001b[36m0:00:00\u001b[0m\n",
            "\u001b[2K     \u001b[90m━━━━━━━━━━━━━━━━━━━━━━━━━━━━━━━━━━━━━━━━\u001b[0m \u001b[32m5.5/5.5 MB\u001b[0m \u001b[31m83.2 MB/s\u001b[0m eta \u001b[36m0:00:00\u001b[0m\n",
            "\u001b[2K     \u001b[90m━━━━━━━━━━━━━━━━━━━━━━━━━━━━━━━━━━━━━━━━\u001b[0m \u001b[32m442.0/442.0 kB\u001b[0m \u001b[31m25.1 MB/s\u001b[0m eta \u001b[36m0:00:00\u001b[0m\n",
            "\u001b[2K     \u001b[90m━━━━━━━━━━━━━━━━━━━━━━━━━━━━━━━━━━━━━━━━\u001b[0m \u001b[32m1.7/1.7 MB\u001b[0m \u001b[31m66.2 MB/s\u001b[0m eta \u001b[36m0:00:00\u001b[0m\n",
            "\u001b[2K     \u001b[90m━━━━━━━━━━━━━━━━━━━━━━━━━━━━━━━━━━━━━━━━\u001b[0m \u001b[32m950.8/950.8 kB\u001b[0m \u001b[31m60.6 MB/s\u001b[0m eta \u001b[36m0:00:00\u001b[0m\n",
            "\u001b[?25h"
          ]
        }
      ]
    },
    {
      "cell_type": "markdown",
      "source": [
        "### Modules"
      ],
      "metadata": {
        "id": "YDL5Vycin78z"
      }
    },
    {
      "cell_type": "code",
      "execution_count": 2,
      "metadata": {
        "colab": {
          "base_uri": "https://localhost:8080/"
        },
        "id": "etjWnFdBpDn7",
        "outputId": "ee630b1e-0319-4f60-fd6c-49e5c00e85e0"
      },
      "outputs": [
        {
          "output_type": "stream",
          "name": "stdout",
          "text": [
            "Using TensorFlow backend\n"
          ]
        }
      ],
      "source": [
        "import matplotlib.pyplot as plt\n",
        "import tensorflow as tf\n",
        "import keras_cv as kcv\n",
        "import time"
      ]
    },
    {
      "cell_type": "markdown",
      "source": [
        "### Setting keraas to mixed precision and give images of float16"
      ],
      "metadata": {
        "id": "mDN2SZSLn9_C"
      }
    },
    {
      "cell_type": "code",
      "source": [
        "tf.keras.mixed_precision.set_global_policy(\"mixed_float16\")"
      ],
      "metadata": {
        "colab": {
          "base_uri": "https://localhost:8080/"
        },
        "id": "qiewhad8QySX",
        "outputId": "a35d9c43-1ec0-49cb-f2f7-f55f1730614c"
      },
      "execution_count": 3,
      "outputs": [
        {
          "output_type": "stream",
          "name": "stderr",
          "text": [
            "WARNING:tensorflow:Mixed precision compatibility check (mixed_float16): WARNING\n",
            "The dtype policy mixed_float16 may run slowly because this machine does not have a GPU. Only Nvidia GPUs with compute capability of at least 7.0 run quickly with mixed_float16.\n",
            "If you will use compatible GPU(s) not attached to this host, e.g. by running a multi-worker model, you can ignore this warning. This message will only be logged once\n"
          ]
        }
      ]
    },
    {
      "cell_type": "markdown",
      "source": [
        "### Function to plot the generated images"
      ],
      "metadata": {
        "id": "_w0Ar0BVoGlz"
      }
    },
    {
      "cell_type": "code",
      "source": [
        "def plot(images):\n",
        "  plt.figure(figsize=(20,20))\n",
        "  for i in range(len(images)):\n",
        "    ax=plt.subplot(1,len(images),i+1)\n",
        "    plt.imshow(images[i])\n",
        "    plt.axis(\"off\")"
      ],
      "metadata": {
        "id": "JYy6uCtdqydI"
      },
      "execution_count": 4,
      "outputs": []
    },
    {
      "cell_type": "markdown",
      "source": [
        "### Instance of StableDiffusion model"
      ],
      "metadata": {
        "id": "vz65A0xLoKGC"
      }
    },
    {
      "cell_type": "code",
      "source": [
        "model=kcv.models.StableDiffusionV2(jit_compile=True)"
      ],
      "metadata": {
        "colab": {
          "base_uri": "https://localhost:8080/"
        },
        "id": "8EHJki1xtDgy",
        "outputId": "bdae7f7e-c861-4bc8-d529-e6bf51610da3"
      },
      "execution_count": 5,
      "outputs": [
        {
          "output_type": "stream",
          "name": "stdout",
          "text": [
            "By using this model checkpoint, you acknowledge that its usage is subject to the terms of the CreativeML Open RAIL++-M license at https://github.com/Stability-AI/stablediffusion/blob/main/LICENSE-MODEL\n"
          ]
        }
      ]
    },
    {
      "cell_type": "markdown",
      "source": [
        "### Prompt for text encoder to generate image"
      ],
      "metadata": {
        "id": "0D4BFYocoS4j"
      }
    },
    {
      "cell_type": "code",
      "source": [
        "prompt=str(input(\"Prompt: \"))"
      ],
      "metadata": {
        "colab": {
          "base_uri": "https://localhost:8080/"
        },
        "id": "7UI3FW6mtiH2",
        "outputId": "3f2f2dbf-a85f-473f-c984-19ec799c7547"
      },
      "execution_count": 6,
      "outputs": [
        {
          "name": "stdout",
          "output_type": "stream",
          "text": [
            "Prompt: Guy in dirt bike at a hill top, back shot looking at the city\n"
          ]
        }
      ]
    },
    {
      "cell_type": "markdown",
      "source": [
        "### Number of image"
      ],
      "metadata": {
        "id": "TfeX1W9ZoYgK"
      }
    },
    {
      "cell_type": "code",
      "source": [
        "batch_size=3"
      ],
      "metadata": {
        "id": "OFypHWult_rY"
      },
      "execution_count": 7,
      "outputs": []
    },
    {
      "cell_type": "markdown",
      "source": [
        "### Predicting images and plotting them"
      ],
      "metadata": {
        "id": "Hl8jqBfnobGk"
      }
    },
    {
      "cell_type": "code",
      "source": [
        "start=time.time()\n",
        "images=model.text_to_image(prompt=prompt,batch_size=batch_size)\n",
        "end=time.time()\n",
        "plot(images)\n",
        "print(f\"Stable Diffusion with XLA+mixed precision: {(end - start):.2f} seconds\")"
      ],
      "metadata": {
        "colab": {
          "base_uri": "https://localhost:8080/"
        },
        "id": "BtDpERWwtr2H",
        "outputId": "c2e09e53-0762-42eb-ba7a-a46698aa307e"
      },
      "execution_count": null,
      "outputs": [
        {
          "output_type": "stream",
          "name": "stdout",
          "text": [
            "Downloading data from https://github.com/openai/CLIP/blob/main/clip/bpe_simple_vocab_16e6.txt.gz?raw=true\n",
            "1356917/1356917 [==============================] - 0s 0us/step\n",
            "Downloading data from https://huggingface.co/ianstenbit/keras-sd2.1/resolve/main/text_encoder_v2_1.h5\n",
            "1361968152/1361968152 [==============================] - 36s 0us/step\n",
            "Downloading data from https://huggingface.co/ianstenbit/keras-sd2.1/resolve/main/diffusion_model_v2_1.h5\n",
            "3464605600/3464605600 [==============================] - 51s 0us/step\n",
            "50/50 [==============================] - 5792s 108s/step\n",
            "Downloading data from https://huggingface.co/fchollet/stable-diffusion/resolve/main/kcv_decoder.h5\n",
            "198180272/198180272 [==============================] - 32s 0us/step\n"
          ]
        }
      ]
    },
    {
      "cell_type": "code",
      "source": [],
      "metadata": {
        "id": "jdAupbBHuaHR"
      },
      "execution_count": null,
      "outputs": []
    }
  ]
}